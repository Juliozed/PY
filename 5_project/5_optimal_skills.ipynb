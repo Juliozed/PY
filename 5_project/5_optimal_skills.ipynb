{
 "cells": [
  {
   "cell_type": "markdown",
   "id": "e15afb96",
   "metadata": {},
   "source": [
    "Optimal Skills\n"
   ]
  },
  {
   "cell_type": "code",
   "execution_count": 1,
   "id": "10c6d300",
   "metadata": {},
   "outputs": [
    {
     "name": "stderr",
     "output_type": "stream",
     "text": [
      "c:\\Users\\Jmero\\OneDrive\\Desktop\\PY\\.venv\\Lib\\site-packages\\tqdm\\auto.py:21: TqdmWarning: IProgress not found. Please update jupyter and ipywidgets. See https://ipywidgets.readthedocs.io/en/stable/user_install.html\n",
      "  from .autonotebook import tqdm as notebook_tqdm\n"
     ]
    }
   ],
   "source": [
    "# Importing Libraries\n",
    "import ast\n",
    "import pandas as pd\n",
    "import seaborn as sns\n",
    "from datasets import load_dataset\n",
    "import matplotlib.pyplot as plt  \n",
    "\n",
    "# Loading Data\n",
    "dataset = load_dataset('lukebarousse/data_jobs')\n",
    "df = dataset['train'].to_pandas()\n",
    "\n",
    "# Data Cleanup\n",
    "df['job_posted_date'] = pd.to_datetime(df['job_posted_date'])\n",
    "df['job_skills'] = df['job_skills'].apply(lambda x: ast.literal_eval(x) if pd.notna(x) else x)"
   ]
  },
  {
   "cell_type": "code",
   "execution_count": 3,
   "id": "520603dd",
   "metadata": {},
   "outputs": [],
   "source": [
    "df_DA_US = df[(df['job_title_short'] == 'Data Analyst') & (df['job_country'] == 'United States')].copy()"
   ]
  },
  {
   "cell_type": "markdown",
   "id": "db2bd635",
   "metadata": {},
   "source": [
    "steps 1. drop NA values, 2.explode data into columns 3. get top 5"
   ]
  },
  {
   "cell_type": "code",
   "execution_count": 7,
   "metadata": {},
   "outputs": [
    {
     "data": {
      "application/vnd.microsoft.datawrangler.viewer.v0+json": {
       "columns": [
        {
         "name": "index",
         "rawType": "int64",
         "type": "integer"
        },
        {
         "name": "salary_year_avg",
         "rawType": "float64",
         "type": "float"
        },
        {
         "name": "job_skills",
         "rawType": "object",
         "type": "string"
        }
       ],
       "ref": "0785221f-0b39-4ebc-a1d4-d0e3fe4de72a",
       "rows": [
        [
         "109",
         "89000.0",
         "python"
        ],
        [
         "109",
         "89000.0",
         "r"
        ],
        [
         "109",
         "89000.0",
         "alteryx"
        ],
        [
         "109",
         "89000.0",
         "tableau"
        ],
        [
         "180",
         "90250.0",
         "excel"
        ]
       ],
       "shape": {
        "columns": 2,
        "rows": 5
       }
      },
      "text/html": [
       "<div>\n",
       "<style scoped>\n",
       "    .dataframe tbody tr th:only-of-type {\n",
       "        vertical-align: middle;\n",
       "    }\n",
       "\n",
       "    .dataframe tbody tr th {\n",
       "        vertical-align: top;\n",
       "    }\n",
       "\n",
       "    .dataframe thead th {\n",
       "        text-align: right;\n",
       "    }\n",
       "</style>\n",
       "<table border=\"1\" class=\"dataframe\">\n",
       "  <thead>\n",
       "    <tr style=\"text-align: right;\">\n",
       "      <th></th>\n",
       "      <th>salary_year_avg</th>\n",
       "      <th>job_skills</th>\n",
       "    </tr>\n",
       "  </thead>\n",
       "  <tbody>\n",
       "    <tr>\n",
       "      <th>109</th>\n",
       "      <td>89000.0</td>\n",
       "      <td>python</td>\n",
       "    </tr>\n",
       "    <tr>\n",
       "      <th>109</th>\n",
       "      <td>89000.0</td>\n",
       "      <td>r</td>\n",
       "    </tr>\n",
       "    <tr>\n",
       "      <th>109</th>\n",
       "      <td>89000.0</td>\n",
       "      <td>alteryx</td>\n",
       "    </tr>\n",
       "    <tr>\n",
       "      <th>109</th>\n",
       "      <td>89000.0</td>\n",
       "      <td>tableau</td>\n",
       "    </tr>\n",
       "    <tr>\n",
       "      <th>180</th>\n",
       "      <td>90250.0</td>\n",
       "      <td>excel</td>\n",
       "    </tr>\n",
       "  </tbody>\n",
       "</table>\n",
       "</div>"
      ],
      "text/plain": [
       "     salary_year_avg job_skills\n",
       "109          89000.0     python\n",
       "109          89000.0          r\n",
       "109          89000.0    alteryx\n",
       "109          89000.0    tableau\n",
       "180          90250.0      excel"
      ]
     },
     "execution_count": 7,
     "metadata": {},
     "output_type": "execute_result"
    }
   ],
   "source": [
    "df_DA_US = df_DA_US.dropna(subset=['salary_year_avg'])\n",
    "\n",
    "df_DA_US_exploded = df_DA_US.explode('job_skills')\n",
    "\n",
    "df_DA_US_exploded[['salary_year_avg', 'job_skills']].head(5)\n"
   ]
  },
  {
   "cell_type": "code",
   "execution_count": 32,
   "id": "f13e3ef5",
   "metadata": {},
   "outputs": [
    {
     "data": {
      "application/vnd.microsoft.datawrangler.viewer.v0+json": {
       "columns": [
        {
         "name": "job_skills",
         "rawType": "object",
         "type": "string"
        },
        {
         "name": "skill_count",
         "rawType": "int64",
         "type": "integer"
        },
        {
         "name": "median_salary",
         "rawType": "float64",
         "type": "float"
        },
        {
         "name": "skill_percent",
         "rawType": "float64",
         "type": "float"
        }
       ],
       "ref": "228eb16c-f50e-48e2-bcd5-38aa5c871c2c",
       "rows": [
        [
         "sql",
         "2508",
         "91000.0",
         "57.655172413793096"
        ],
        [
         "excel",
         "1808",
         "84392.0",
         "41.56321839080459"
        ],
        [
         "python",
         "1431",
         "97500.0",
         "32.89655172413793"
        ],
        [
         "tableau",
         "1364",
         "92875.0",
         "31.356321839080458"
        ],
        [
         "sas",
         "926",
         "90000.0",
         "21.28735632183908"
        ],
        [
         "r",
         "893",
         "92500.0",
         "20.52873563218391"
        ],
        [
         "power bi",
         "838",
         "90000.0",
         "19.264367816091955"
        ],
        [
         "powerpoint",
         "462",
         "85000.0",
         "10.620689655172413"
        ],
        [
         "word",
         "461",
         "81194.75",
         "10.597701149425287"
        ],
        [
         "sql server",
         "286",
         "92500.0",
         "6.574712643678161"
        ],
        [
         "oracle",
         "274",
         "96923.75",
         "6.298850574712643"
        ],
        [
         "go",
         "224",
         "90000.0",
         "5.149425287356322"
        ]
       ],
       "shape": {
        "columns": 3,
        "rows": 12
       }
      },
      "text/html": [
       "<div>\n",
       "<style scoped>\n",
       "    .dataframe tbody tr th:only-of-type {\n",
       "        vertical-align: middle;\n",
       "    }\n",
       "\n",
       "    .dataframe tbody tr th {\n",
       "        vertical-align: top;\n",
       "    }\n",
       "\n",
       "    .dataframe thead th {\n",
       "        text-align: right;\n",
       "    }\n",
       "</style>\n",
       "<table border=\"1\" class=\"dataframe\">\n",
       "  <thead>\n",
       "    <tr style=\"text-align: right;\">\n",
       "      <th></th>\n",
       "      <th>skill_count</th>\n",
       "      <th>median_salary</th>\n",
       "      <th>skill_percent</th>\n",
       "    </tr>\n",
       "    <tr>\n",
       "      <th>job_skills</th>\n",
       "      <th></th>\n",
       "      <th></th>\n",
       "      <th></th>\n",
       "    </tr>\n",
       "  </thead>\n",
       "  <tbody>\n",
       "    <tr>\n",
       "      <th>sql</th>\n",
       "      <td>2508</td>\n",
       "      <td>91000.00</td>\n",
       "      <td>57.655172</td>\n",
       "    </tr>\n",
       "    <tr>\n",
       "      <th>excel</th>\n",
       "      <td>1808</td>\n",
       "      <td>84392.00</td>\n",
       "      <td>41.563218</td>\n",
       "    </tr>\n",
       "    <tr>\n",
       "      <th>python</th>\n",
       "      <td>1431</td>\n",
       "      <td>97500.00</td>\n",
       "      <td>32.896552</td>\n",
       "    </tr>\n",
       "    <tr>\n",
       "      <th>tableau</th>\n",
       "      <td>1364</td>\n",
       "      <td>92875.00</td>\n",
       "      <td>31.356322</td>\n",
       "    </tr>\n",
       "    <tr>\n",
       "      <th>sas</th>\n",
       "      <td>926</td>\n",
       "      <td>90000.00</td>\n",
       "      <td>21.287356</td>\n",
       "    </tr>\n",
       "    <tr>\n",
       "      <th>r</th>\n",
       "      <td>893</td>\n",
       "      <td>92500.00</td>\n",
       "      <td>20.528736</td>\n",
       "    </tr>\n",
       "    <tr>\n",
       "      <th>power bi</th>\n",
       "      <td>838</td>\n",
       "      <td>90000.00</td>\n",
       "      <td>19.264368</td>\n",
       "    </tr>\n",
       "    <tr>\n",
       "      <th>powerpoint</th>\n",
       "      <td>462</td>\n",
       "      <td>85000.00</td>\n",
       "      <td>10.620690</td>\n",
       "    </tr>\n",
       "    <tr>\n",
       "      <th>word</th>\n",
       "      <td>461</td>\n",
       "      <td>81194.75</td>\n",
       "      <td>10.597701</td>\n",
       "    </tr>\n",
       "    <tr>\n",
       "      <th>sql server</th>\n",
       "      <td>286</td>\n",
       "      <td>92500.00</td>\n",
       "      <td>6.574713</td>\n",
       "    </tr>\n",
       "    <tr>\n",
       "      <th>oracle</th>\n",
       "      <td>274</td>\n",
       "      <td>96923.75</td>\n",
       "      <td>6.298851</td>\n",
       "    </tr>\n",
       "    <tr>\n",
       "      <th>go</th>\n",
       "      <td>224</td>\n",
       "      <td>90000.00</td>\n",
       "      <td>5.149425</td>\n",
       "    </tr>\n",
       "  </tbody>\n",
       "</table>\n",
       "</div>"
      ],
      "text/plain": [
       "            skill_count  median_salary  skill_percent\n",
       "job_skills                                           \n",
       "sql                2508       91000.00      57.655172\n",
       "excel              1808       84392.00      41.563218\n",
       "python             1431       97500.00      32.896552\n",
       "tableau            1364       92875.00      31.356322\n",
       "sas                 926       90000.00      21.287356\n",
       "r                   893       92500.00      20.528736\n",
       "power bi            838       90000.00      19.264368\n",
       "powerpoint          462       85000.00      10.620690\n",
       "word                461       81194.75      10.597701\n",
       "sql server          286       92500.00       6.574713\n",
       "oracle              274       96923.75       6.298851\n",
       "go                  224       90000.00       5.149425"
      ]
     },
     "execution_count": 32,
     "metadata": {},
     "output_type": "execute_result"
    }
   ],
   "source": [
    "df_DA_skills = df_DA_US_exploded.groupby('job_skills')['salary_year_avg'].agg(['count', 'median']).sort_values(by='count', ascending=False)\n",
    "#rename columns in a {}\n",
    "df_DA_skills = df_DA_skills.rename(columns={'count': 'skill_count', 'median': 'median_salary'})\n",
    "\n",
    "# for percetage get original DF with its len, and then make its own column the times by 100\n",
    "Da_job_count = len(df_DA_US)\n",
    "\n",
    "df_DA_skills['skill_percent'] = df_DA_skills['skill_count'] / Da_job_count * 100\n",
    "\n",
    "skill_percent = 5\n",
    "\n",
    "df_DA_skills_high_demand = df_DA_skills[df_DA_skills ['skill_percent'] > skill_percent] \n",
    "\n",
    "df_DA_skills_high_demand"
   ]
  },
  {
   "cell_type": "code",
   "execution_count": 35,
   "id": "83d9bba2",
   "metadata": {},
   "outputs": [
    {
     "data": {
      "image/png": "[encoded data removed]",
      "text/plain": [
       "<Figure size 640x480 with 1 Axes>"
      ]
     },
     "metadata": {},
     "output_type": "display_data"
    }
   ],
   "source": [
    "from adjustText import adjust_text\n",
    "\n",
    "# fig, ax = plt.subplots()\n",
    "\n",
    "\n",
    "\n",
    "df_DA_skills_high_demand.plot(kind=\"scatter\", x='skill_percent', y='median_salary')\n",
    "\n",
    "texts = []\n",
    "for i, txt in enumerate(df_DA_skills_high_demand.index):\n",
    "    texts.append(plt.text(df_DA_skills_high_demand['skill_percent'].iloc[i], df_DA_skills_high_demand['median_salary'].iloc[i], txt))\n",
    "    \n",
    "adjust_text(texts, arrowprops=dict(arrowstyle='->', color='gray', lw=1.5))\n",
    "\n",
    "\n",
    "from matplotlib.ticker import PercentFormatter\n",
    "ax =plt.gca()\n",
    "ax.yaxis.set_major_formatter(plt.FuncFormatter(lambda y, pos: f'${int(y/1000)}K')) # for K money on y axis\n",
    "ax.xaxis.set_major_formatter(PercentFormatter(decimals=0)) # for percen% on x axis do this and import ticker! like above\n",
    "    \n",
    "plt.xlabel('Percent of Job Postings')\n",
    "plt.ylabel('Median Yearly Salary')\n",
    "plt.title('Most Optimal Skills for Data Analyst in the US')\n",
    "plt.tight_layout()\n",
    "plt.show()"
   ]
  },
  {
   "cell_type": "markdown",
   "id": "27117e4e",
   "metadata": {},
   "source": [
    "clea dataset, aggregates all values and puts it in a singular dataset"
   ]
  },
  {
   "cell_type": "code",
   "execution_count": 36,
   "id": "dacff30e",
   "metadata": {},
   "outputs": [
    {
     "data": {
      "text/plain": [
       "{'analyst_tools': ['outlook',\n",
       "  'alteryx',\n",
       "  'cognos',\n",
       "  'powerbi',\n",
       "  'nuix',\n",
       "  'spreadsheet',\n",
       "  'datarobot',\n",
       "  'power bi',\n",
       "  'powerpoint',\n",
       "  'excel',\n",
       "  'sheets',\n",
       "  'word',\n",
       "  'dax',\n",
       "  'visio',\n",
       "  'microstrategy',\n",
       "  'ssrs',\n",
       "  'looker',\n",
       "  'spss',\n",
       "  'sharepoint',\n",
       "  'sap',\n",
       "  'ssis',\n",
       "  'tableau',\n",
       "  'msaccess',\n",
       "  'splunk',\n",
       "  'ms access',\n",
       "  'qlik',\n",
       "  'esquisse',\n",
       "  'sas'],\n",
       " 'programming': ['t-sql',\n",
       "  'sas',\n",
       "  'nosql',\n",
       "  'java',\n",
       "  'assembly',\n",
       "  'haskell',\n",
       "  'perl',\n",
       "  'visual basic',\n",
       "  'mongodb',\n",
       "  'swift',\n",
       "  'fortran',\n",
       "  'sql',\n",
       "  'ruby',\n",
       "  'c++',\n",
       "  'visualbasic',\n",
       "  'sass',\n",
       "  'kotlin',\n",
       "  'c#',\n",
       "  'html',\n",
       "  'go',\n",
       "  'groovy',\n",
       "  'vb.net',\n",
       "  'erlang',\n",
       "  'rust',\n",
       "  'apl',\n",
       "  'scala',\n",
       "  'f#',\n",
       "  'solidity',\n",
       "  'mongo',\n",
       "  'objective-c',\n",
       "  'cobol',\n",
       "  'lisp',\n",
       "  'python',\n",
       "  'no-sql',\n",
       "  'elixir',\n",
       "  'dart',\n",
       "  'crystal',\n",
       "  'julia',\n",
       "  'typescript',\n",
       "  'shell',\n",
       "  'ocaml',\n",
       "  'lua',\n",
       "  'delphi',\n",
       "  'javascript',\n",
       "  'pascal',\n",
       "  'golang',\n",
       "  'powershell',\n",
       "  'r',\n",
       "  'matlab',\n",
       "  'php',\n",
       "  'vba',\n",
       "  'clojure',\n",
       "  'bash',\n",
       "  'css',\n",
       "  'c'],\n",
       " 'cloud': ['heroku',\n",
       "  'linode',\n",
       "  'firebase',\n",
       "  'redshift',\n",
       "  'watson',\n",
       "  'vmware',\n",
       "  'ibm cloud',\n",
       "  'openstack',\n",
       "  'ovh',\n",
       "  'gcp',\n",
       "  'databricks',\n",
       "  'snowflake',\n",
       "  'oracle',\n",
       "  'aurora',\n",
       "  'colocation',\n",
       "  'azure',\n",
       "  'digitalocean',\n",
       "  'bigquery',\n",
       "  'aws'],\n",
       " 'libraries': ['mlr',\n",
       "  'shogun',\n",
       "  'tensorflow',\n",
       "  'cordova',\n",
       "  'tidyr',\n",
       "  'pandas',\n",
       "  'seaborn',\n",
       "  'jupyter',\n",
       "  'hugging face',\n",
       "  'hadoop',\n",
       "  'electron',\n",
       "  'gtx',\n",
       "  'nltk',\n",
       "  'matplotlib',\n",
       "  'pyspark',\n",
       "  'pytorch',\n",
       "  'graphql',\n",
       "  'chainer',\n",
       "  'mlpack',\n",
       "  'selenium',\n",
       "  'opencv',\n",
       "  'plotly',\n",
       "  'spark',\n",
       "  'ionic',\n",
       "  'dplyr',\n",
       "  'mxnet',\n",
       "  'rshiny',\n",
       "  'kafka',\n",
       "  'airflow',\n",
       "  'scikit-learn',\n",
       "  'tidyverse',\n",
       "  'spring',\n",
       "  'capacitor',\n",
       "  'keras',\n",
       "  'gdpr',\n",
       "  'xamarin',\n",
       "  'dlib',\n",
       "  'qt',\n",
       "  'flutter',\n",
       "  'react',\n",
       "  'theano',\n",
       "  'huggingface',\n",
       "  'ggplot2',\n",
       "  'numpy'],\n",
       " 'other': ['puppet',\n",
       "  'atlassian',\n",
       "  'github',\n",
       "  'svn',\n",
       "  'npm',\n",
       "  'bitbucket',\n",
       "  'homebrew',\n",
       "  'kubernetes',\n",
       "  'jenkins',\n",
       "  'unity',\n",
       "  'docker',\n",
       "  'terminal',\n",
       "  'gitlab',\n",
       "  'unreal',\n",
       "  'git',\n",
       "  'codecommit',\n",
       "  'terraform',\n",
       "  'yarn',\n",
       "  'chef',\n",
       "  'flow',\n",
       "  'ansible',\n",
       "  'pulumi'],\n",
       " 'databases': ['cassandra',\n",
       "  'redis',\n",
       "  'mariadb',\n",
       "  'db2',\n",
       "  'couchbase',\n",
       "  'couchdb',\n",
       "  'sqlserver',\n",
       "  'firebase',\n",
       "  'mongodb',\n",
       "  'sql server',\n",
       "  'firestore',\n",
       "  'elasticsearch',\n",
       "  'sqlite',\n",
       "  'neo4j',\n",
       "  'postgresql',\n",
       "  'mysql',\n",
       "  'dynamodb'],\n",
       " 'os': ['suse',\n",
       "  'unix',\n",
       "  'redhat',\n",
       "  'kali',\n",
       "  'fedora',\n",
       "  'arch',\n",
       "  'wsl',\n",
       "  'debian',\n",
       "  'centos',\n",
       "  'macos',\n",
       "  'linux',\n",
       "  'windows',\n",
       "  'ubuntu'],\n",
       " 'async': ['jira',\n",
       "  'workfront',\n",
       "  'asana',\n",
       "  'dingtalk',\n",
       "  'wrike',\n",
       "  'notion',\n",
       "  'planner',\n",
       "  'airtable',\n",
       "  'confluence',\n",
       "  'trello',\n",
       "  'wimi',\n",
       "  'microsoft lists',\n",
       "  'clickup',\n",
       "  'smartsheet',\n",
       "  'monday.com'],\n",
       " 'webframeworks': ['play framework',\n",
       "  'ruby on rails',\n",
       "  'fastify',\n",
       "  'jquery',\n",
       "  'angular.js',\n",
       "  'next.js',\n",
       "  'ember.js',\n",
       "  'ruby',\n",
       "  'angular',\n",
       "  'rubyon rails',\n",
       "  'react.js',\n",
       "  'node.js',\n",
       "  'phoenix',\n",
       "  'gatsby',\n",
       "  'deno',\n",
       "  'laravel',\n",
       "  'django',\n",
       "  'symfony',\n",
       "  'nuxt.js',\n",
       "  'vue',\n",
       "  'asp.net',\n",
       "  'vue.js',\n",
       "  'asp.net core',\n",
       "  'flask',\n",
       "  'express',\n",
       "  'fastapi',\n",
       "  'node',\n",
       "  'asp.netcore',\n",
       "  'drupal',\n",
       "  'blazor',\n",
       "  'svelte'],\n",
       " 'sync': ['twilio',\n",
       "  'ringcentral',\n",
       "  'symphony',\n",
       "  'rocketchat',\n",
       "  'zoom',\n",
       "  'mattermost',\n",
       "  'microsoft teams',\n",
       "  'webex',\n",
       "  'google chat',\n",
       "  'unify',\n",
       "  'slack',\n",
       "  'wire']}"
      ]
     },
     "execution_count": 36,
     "metadata": {},
     "output_type": "execute_result"
    }
   ],
   "source": [
    "df_technology = df['job_type_skills'].copy()\n",
    "\n",
    "# remove duplicates\n",
    "df_technology = df_technology.drop_duplicates()\n",
    "\n",
    "# remove NaN values\n",
    "df_technology = df_technology.dropna()\n",
    "\n",
    "# combine all dictionaries into one\n",
    "technology_dict = {}\n",
    "for row in df_technology:\n",
    "    row_dict = ast.literal_eval(row)  # convert string to dictionary\n",
    "    for key, value in row_dict.items():\n",
    "        if key in technology_dict:  # if key already exists in technology_dict, add value to existing value\n",
    "            technology_dict[key] += value\n",
    "        else:                       # if key does not exist in technology_dict, add key and value\n",
    "            technology_dict[key] = value\n",
    "\n",
    "# remove duplicates by converting values to set then back to list\n",
    "for key, value in technology_dict.items():\n",
    "    technology_dict[key] = list(set(value))\n",
    "\n",
    "technology_dict"
   ]
  },
  {
   "cell_type": "code",
   "execution_count": 38,
   "id": "82b1d804",
   "metadata": {},
   "outputs": [
    {
     "data": {
      "application/vnd.microsoft.datawrangler.viewer.v0+json": {
       "columns": [
        {
         "name": "index",
         "rawType": "int64",
         "type": "integer"
        },
        {
         "name": "technology",
         "rawType": "object",
         "type": "string"
        },
        {
         "name": "skills",
         "rawType": "object",
         "type": "string"
        }
       ],
       "ref": "554cb056-b640-4324-8f59-405603447f5e",
       "rows": [
        [
         "0",
         "analyst_tools",
         "outlook"
        ],
        [
         "0",
         "analyst_tools",
         "alteryx"
        ],
        [
         "0",
         "analyst_tools",
         "cognos"
        ],
        [
         "0",
         "analyst_tools",
         "powerbi"
        ],
        [
         "0",
         "analyst_tools",
         "nuix"
        ],
        [
         "0",
         "analyst_tools",
         "spreadsheet"
        ],
        [
         "0",
         "analyst_tools",
         "datarobot"
        ],
        [
         "0",
         "analyst_tools",
         "power bi"
        ],
        [
         "0",
         "analyst_tools",
         "powerpoint"
        ],
        [
         "0",
         "analyst_tools",
         "excel"
        ],
        [
         "0",
         "analyst_tools",
         "sheets"
        ],
        [
         "0",
         "analyst_tools",
         "word"
        ],
        [
         "0",
         "analyst_tools",
         "dax"
        ],
        [
         "0",
         "analyst_tools",
         "visio"
        ],
        [
         "0",
         "analyst_tools",
         "microstrategy"
        ],
        [
         "0",
         "analyst_tools",
         "ssrs"
        ],
        [
         "0",
         "analyst_tools",
         "looker"
        ],
        [
         "0",
         "analyst_tools",
         "spss"
        ],
        [
         "0",
         "analyst_tools",
         "sharepoint"
        ],
        [
         "0",
         "analyst_tools",
         "sap"
        ],
        [
         "0",
         "analyst_tools",
         "ssis"
        ],
        [
         "0",
         "analyst_tools",
         "tableau"
        ],
        [
         "0",
         "analyst_tools",
         "msaccess"
        ],
        [
         "0",
         "analyst_tools",
         "splunk"
        ],
        [
         "0",
         "analyst_tools",
         "ms access"
        ],
        [
         "0",
         "analyst_tools",
         "qlik"
        ],
        [
         "0",
         "analyst_tools",
         "esquisse"
        ],
        [
         "0",
         "analyst_tools",
         "sas"
        ],
        [
         "1",
         "programming",
         "t-sql"
        ],
        [
         "1",
         "programming",
         "sas"
        ],
        [
         "1",
         "programming",
         "nosql"
        ],
        [
         "1",
         "programming",
         "java"
        ],
        [
         "1",
         "programming",
         "assembly"
        ],
        [
         "1",
         "programming",
         "haskell"
        ],
        [
         "1",
         "programming",
         "perl"
        ],
        [
         "1",
         "programming",
         "visual basic"
        ],
        [
         "1",
         "programming",
         "mongodb"
        ],
        [
         "1",
         "programming",
         "swift"
        ],
        [
         "1",
         "programming",
         "fortran"
        ],
        [
         "1",
         "programming",
         "sql"
        ],
        [
         "1",
         "programming",
         "ruby"
        ],
        [
         "1",
         "programming",
         "c++"
        ],
        [
         "1",
         "programming",
         "visualbasic"
        ],
        [
         "1",
         "programming",
         "sass"
        ],
        [
         "1",
         "programming",
         "kotlin"
        ],
        [
         "1",
         "programming",
         "c#"
        ],
        [
         "1",
         "programming",
         "html"
        ],
        [
         "1",
         "programming",
         "go"
        ],
        [
         "1",
         "programming",
         "groovy"
        ],
        [
         "1",
         "programming",
         "vb.net"
        ]
       ],
       "shape": {
        "columns": 2,
        "rows": 256
       }
      },
      "text/html": [
       "<div>\n",
       "<style scoped>\n",
       "    .dataframe tbody tr th:only-of-type {\n",
       "        vertical-align: middle;\n",
       "    }\n",
       "\n",
       "    .dataframe tbody tr th {\n",
       "        vertical-align: top;\n",
       "    }\n",
       "\n",
       "    .dataframe thead th {\n",
       "        text-align: right;\n",
       "    }\n",
       "</style>\n",
       "<table border=\"1\" class=\"dataframe\">\n",
       "  <thead>\n",
       "    <tr style=\"text-align: right;\">\n",
       "      <th></th>\n",
       "      <th>technology</th>\n",
       "      <th>skills</th>\n",
       "    </tr>\n",
       "  </thead>\n",
       "  <tbody>\n",
       "    <tr>\n",
       "      <th>0</th>\n",
       "      <td>analyst_tools</td>\n",
       "      <td>outlook</td>\n",
       "    </tr>\n",
       "    <tr>\n",
       "      <th>0</th>\n",
       "      <td>analyst_tools</td>\n",
       "      <td>alteryx</td>\n",
       "    </tr>\n",
       "    <tr>\n",
       "      <th>0</th>\n",
       "      <td>analyst_tools</td>\n",
       "      <td>cognos</td>\n",
       "    </tr>\n",
       "    <tr>\n",
       "      <th>0</th>\n",
       "      <td>analyst_tools</td>\n",
       "      <td>powerbi</td>\n",
       "    </tr>\n",
       "    <tr>\n",
       "      <th>0</th>\n",
       "      <td>analyst_tools</td>\n",
       "      <td>nuix</td>\n",
       "    </tr>\n",
       "    <tr>\n",
       "      <th>...</th>\n",
       "      <td>...</td>\n",
       "      <td>...</td>\n",
       "    </tr>\n",
       "    <tr>\n",
       "      <th>9</th>\n",
       "      <td>sync</td>\n",
       "      <td>webex</td>\n",
       "    </tr>\n",
       "    <tr>\n",
       "      <th>9</th>\n",
       "      <td>sync</td>\n",
       "      <td>google chat</td>\n",
       "    </tr>\n",
       "    <tr>\n",
       "      <th>9</th>\n",
       "      <td>sync</td>\n",
       "      <td>unify</td>\n",
       "    </tr>\n",
       "    <tr>\n",
       "      <th>9</th>\n",
       "      <td>sync</td>\n",
       "      <td>slack</td>\n",
       "    </tr>\n",
       "    <tr>\n",
       "      <th>9</th>\n",
       "      <td>sync</td>\n",
       "      <td>wire</td>\n",
       "    </tr>\n",
       "  </tbody>\n",
       "</table>\n",
       "<p>256 rows × 2 columns</p>\n",
       "</div>"
      ],
      "text/plain": [
       "       technology       skills\n",
       "0   analyst_tools      outlook\n",
       "0   analyst_tools      alteryx\n",
       "0   analyst_tools       cognos\n",
       "0   analyst_tools      powerbi\n",
       "0   analyst_tools         nuix\n",
       "..            ...          ...\n",
       "9            sync        webex\n",
       "9            sync  google chat\n",
       "9            sync        unify\n",
       "9            sync        slack\n",
       "9            sync         wire\n",
       "\n",
       "[256 rows x 2 columns]"
      ]
     },
     "execution_count": 38,
     "metadata": {},
     "output_type": "execute_result"
    }
   ],
   "source": [
    "df_technology = pd.DataFrame(list(technology_dict.items()), columns=['technology', 'skills'])\n",
    "\n",
    "df_technology = df_technology.explode('skills')\n",
    "\n",
    "df_technology"
   ]
  },
  {
   "cell_type": "code",
   "execution_count": 40,
   "id": "749eebe6",
   "metadata": {},
   "outputs": [],
   "source": [
    "df_plot = df_DA_skills_high_demand.merge(df_technology, left_on='job_skills', right_on='skills')"
   ]
  },
  {
   "cell_type": "code",
   "execution_count": 45,
   "metadata": {},
   "outputs": [
    {
     "data": {
      "image/png": "[encoded data removed]",
      "text/plain": [
       "<Figure size 640x480 with 1 Axes>"
      ]
     },
     "metadata": {},
     "output_type": "display_data"
    }
   ],
   "source": [
    "from adjustText import adjust_text\n",
    "\n",
    "# fig, ax = plt.subplots()\n",
    "\n",
    "\n",
    "\n",
    "# df_plot.plot(kind=\"scatter\", x='skill_percent', y='median_salary')\n",
    "\n",
    "sns.scatterplot(\n",
    "    data=df_plot,\n",
    "    x='skill_percent',\n",
    "    y='median_salary',\n",
    "    hue='technology'\n",
    ")\n",
    "\n",
    "sns.despine()\n",
    "sns.set_theme(style='ticks')\n",
    "\n",
    "texts = []\n",
    "for i, txt in enumerate(df_DA_skills_high_demand.index):\n",
    "    texts.append(plt.text(df_DA_skills_high_demand['skill_percent'].iloc[i], df_DA_skills_high_demand['median_salary'].iloc[i], txt))\n",
    "    \n",
    "adjust_text(texts, arrowprops=dict(arrowstyle='->', color='gray', lw=1.5))\n",
    "\n",
    "\n",
    "from matplotlib.ticker import PercentFormatter\n",
    "ax =plt.gca()\n",
    "ax.yaxis.set_major_formatter(plt.FuncFormatter(lambda y, pos: f'${int(y/1000)}K')) # for K money on y axis\n",
    "ax.xaxis.set_major_formatter(PercentFormatter(decimals=0)) # for percen% on x axis do this and import ticker! like above\n",
    "    \n",
    "plt.xlabel('Percent of Job Postings')\n",
    "plt.ylabel('Median Yearly Salary')\n",
    "plt.title('Most Optimal Skills for Data Analyst in the US')\n",
    "plt.tight_layout()\n",
    "plt.show()"
   ]
  },
  {
   "cell_type": "markdown",
   "id": "1c0a3e0f",
   "metadata": {},
   "source": []
  }
 ],
 "metadata": {
  "kernelspec": {
   "display_name": ".venv",
   "language": "python",
   "name": "python3"
  },
  "language_info": {
   "codemirror_mode": {
    "name": "ipython",
    "version": 3
   },
   "file_extension": ".py",
   "mimetype": "text/x-python",
   "name": "python",
   "nbconvert_exporter": "python",
   "pygments_lexer": "ipython3",
   "version": "3.13.2"
  }
 },
 "nbformat": 4,
 "nbformat_minor": 5
}
