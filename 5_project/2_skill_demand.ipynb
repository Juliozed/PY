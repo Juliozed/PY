{
 "cells": [
  {
   "cell_type": "markdown",
   "id": "3d38328a",
   "metadata": {},
   "source": [
    "skill demand"
   ]
  },
  {
   "cell_type": "code",
   "execution_count": 61,
   "id": "a926a6ae",
   "metadata": {},
   "outputs": [],
   "source": [
    "# Importing Libraries\n",
    "import ast\n",
    "import pandas as pd\n",
    "import seaborn as sns\n",
    "from datasets import load_dataset\n",
    "import matplotlib.pyplot as plt  \n",
    "\n",
    "# Loading Data\n",
    "dataset = load_dataset('lukebarousse/data_jobs')\n",
    "df = dataset['train'].to_pandas()\n",
    "\n",
    "# Data Cleanup\n",
    "df['job_posted_date'] = pd.to_datetime(df['job_posted_date'])\n",
    "df['job_skills'] = df['job_skills'].apply(lambda x: ast.literal_eval(x) if pd.notna(x) else x)"
   ]
  },
  {
   "cell_type": "markdown",
   "id": "a7f4089f",
   "metadata": {},
   "source": [
    "Great question, Julio — especially since you’ve been exploring data cleaning! 🧼 The .explode() method in pandas is a powerful tool for transforming lists within DataFrame cells into separate rows. It’s super handy when a column contains arrays, lists, or any sequence-like values.\n"
   ]
  },
  {
   "cell_type": "markdown",
   "id": "f6da9eb3",
   "metadata": {},
   "source": [
    "also the groupby() and size() to see the number of columns"
   ]
  },
  {
   "cell_type": "code",
   "execution_count": 62,
   "id": "30665c63",
   "metadata": {},
   "outputs": [],
   "source": [
    "df_US = df[df['job_country'] == 'United States'].copy()\n",
    "#now we explode why? transforms list within dataframe into sepetate rows\n",
    "df_skills = df_US.explode('job_skills')\n",
    "\n",
    "# so we already have the country, now we want the job skills and the job title will be series"
   ]
  },
  {
   "cell_type": "code",
   "execution_count": 63,
   "id": "f1f29ff0",
   "metadata": {},
   "outputs": [
    {
     "data": {
      "application/vnd.microsoft.datawrangler.viewer.v0+json": {
       "columns": [
        {
         "name": "('job_skills', 'job_title_short')",
         "rawType": "object",
         "type": "unknown"
        },
        {
         "name": "0",
         "rawType": "int64",
         "type": "integer"
        }
       ],
       "ref": "a42f2bc4-edb9-48a6-b074-4f229f0b8ecb",
       "rows": [
        [
         "('airflow', 'Business Analyst')",
         "38"
        ],
        [
         "('airflow', 'Cloud Engineer')",
         "27"
        ],
        [
         "('airflow', 'Data Analyst')",
         "387"
        ],
        [
         "('airflow', 'Data Engineer')",
         "4716"
        ],
        [
         "('airflow', 'Data Scientist')",
         "1166"
        ],
        [
         "('airflow', 'Machine Learning Engineer')",
         "56"
        ],
        [
         "('airflow', 'Senior Data Analyst')",
         "136"
        ],
        [
         "('airflow', 'Senior Data Engineer')",
         "1784"
        ],
        [
         "('airflow', 'Senior Data Scientist')",
         "423"
        ],
        [
         "('airflow', 'Software Engineer')",
         "87"
        ],
        [
         "('airtable', 'Business Analyst')",
         "3"
        ],
        [
         "('airtable', 'Data Analyst')",
         "36"
        ],
        [
         "('airtable', 'Data Engineer')",
         "13"
        ],
        [
         "('airtable', 'Data Scientist')",
         "42"
        ],
        [
         "('airtable', 'Machine Learning Engineer')",
         "2"
        ],
        [
         "('airtable', 'Senior Data Analyst')",
         "10"
        ],
        [
         "('airtable', 'Senior Data Engineer')",
         "6"
        ],
        [
         "('airtable', 'Senior Data Scientist')",
         "9"
        ],
        [
         "('alteryx', 'Business Analyst')",
         "264"
        ],
        [
         "('alteryx', 'Cloud Engineer')",
         "4"
        ],
        [
         "('alteryx', 'Data Analyst')",
         "2045"
        ],
        [
         "('alteryx', 'Data Engineer')",
         "660"
        ],
        [
         "('alteryx', 'Data Scientist')",
         "774"
        ],
        [
         "('alteryx', 'Machine Learning Engineer')",
         "6"
        ],
        [
         "('alteryx', 'Senior Data Analyst')",
         "570"
        ],
        [
         "('alteryx', 'Senior Data Engineer')",
         "158"
        ],
        [
         "('alteryx', 'Senior Data Scientist')",
         "167"
        ],
        [
         "('alteryx', 'Software Engineer')",
         "25"
        ],
        [
         "('angular', 'Business Analyst')",
         "10"
        ],
        [
         "('angular', 'Cloud Engineer')",
         "1"
        ],
        [
         "('angular', 'Data Analyst')",
         "129"
        ],
        [
         "('angular', 'Data Engineer')",
         "383"
        ],
        [
         "('angular', 'Data Scientist')",
         "232"
        ],
        [
         "('angular', 'Machine Learning Engineer')",
         "14"
        ],
        [
         "('angular', 'Senior Data Analyst')",
         "4"
        ],
        [
         "('angular', 'Senior Data Engineer')",
         "95"
        ],
        [
         "('angular', 'Senior Data Scientist')",
         "38"
        ],
        [
         "('angular', 'Software Engineer')",
         "40"
        ],
        [
         "('angular.js', 'Data Engineer')",
         "14"
        ],
        [
         "('angular.js', 'Data Scientist')",
         "6"
        ],
        [
         "('angular.js', 'Senior Data Engineer')",
         "7"
        ],
        [
         "('ansible', 'Business Analyst')",
         "3"
        ],
        [
         "('ansible', 'Cloud Engineer')",
         "10"
        ],
        [
         "('ansible', 'Data Analyst')",
         "48"
        ],
        [
         "('ansible', 'Data Engineer')",
         "481"
        ],
        [
         "('ansible', 'Data Scientist')",
         "104"
        ],
        [
         "('ansible', 'Machine Learning Engineer')",
         "7"
        ],
        [
         "('ansible', 'Senior Data Analyst')",
         "14"
        ],
        [
         "('ansible', 'Senior Data Engineer')",
         "131"
        ],
        [
         "('ansible', 'Senior Data Scientist')",
         "11"
        ]
       ],
       "shape": {
        "columns": 1,
        "rows": 1870
       }
      },
      "text/plain": [
       "job_skills  job_title_short          \n",
       "airflow     Business Analyst               38\n",
       "            Cloud Engineer                 27\n",
       "            Data Analyst                  387\n",
       "            Data Engineer                4716\n",
       "            Data Scientist               1166\n",
       "                                         ... \n",
       "zoom        Machine Learning Engineer       5\n",
       "            Senior Data Analyst            50\n",
       "            Senior Data Engineer           30\n",
       "            Senior Data Scientist          25\n",
       "            Software Engineer              16\n",
       "Length: 1870, dtype: int64"
      ]
     },
     "execution_count": 63,
     "metadata": {},
     "output_type": "execute_result"
    }
   ],
   "source": [
    "df_skills_count = df_skills.groupby(['job_skills', 'job_title_short']).size()\n",
    "df_skills_count"
   ]
  },
  {
   "cell_type": "markdown",
   "id": "3a0da06e",
   "metadata": {},
   "source": [
    "since its a series, we must convert it into a dataframe by reset_index(), above its messy, reset_index() gives us three seperate columns?"
   ]
  },
  {
   "cell_type": "code",
   "execution_count": 64,
   "id": "8858173a",
   "metadata": {},
   "outputs": [
    {
     "data": {
      "application/vnd.microsoft.datawrangler.viewer.v0+json": {
       "columns": [
        {
         "name": "index",
         "rawType": "int64",
         "type": "integer"
        },
        {
         "name": "job_skills",
         "rawType": "object",
         "type": "string"
        },
        {
         "name": "job_title_short",
         "rawType": "object",
         "type": "string"
        },
        {
         "name": "skill_count",
         "rawType": "int64",
         "type": "integer"
        }
       ],
       "ref": "347cd0f6-3759-4091-a1ac-e07f00ab88bc",
       "rows": [
        [
         "0",
         "airflow",
         "Business Analyst",
         "38"
        ],
        [
         "1",
         "airflow",
         "Cloud Engineer",
         "27"
        ],
        [
         "2",
         "airflow",
         "Data Analyst",
         "387"
        ],
        [
         "3",
         "airflow",
         "Data Engineer",
         "4716"
        ],
        [
         "4",
         "airflow",
         "Data Scientist",
         "1166"
        ],
        [
         "5",
         "airflow",
         "Machine Learning Engineer",
         "56"
        ],
        [
         "6",
         "airflow",
         "Senior Data Analyst",
         "136"
        ],
        [
         "7",
         "airflow",
         "Senior Data Engineer",
         "1784"
        ],
        [
         "8",
         "airflow",
         "Senior Data Scientist",
         "423"
        ],
        [
         "9",
         "airflow",
         "Software Engineer",
         "87"
        ],
        [
         "10",
         "airtable",
         "Business Analyst",
         "3"
        ],
        [
         "11",
         "airtable",
         "Data Analyst",
         "36"
        ],
        [
         "12",
         "airtable",
         "Data Engineer",
         "13"
        ],
        [
         "13",
         "airtable",
         "Data Scientist",
         "42"
        ],
        [
         "14",
         "airtable",
         "Machine Learning Engineer",
         "2"
        ],
        [
         "15",
         "airtable",
         "Senior Data Analyst",
         "10"
        ],
        [
         "16",
         "airtable",
         "Senior Data Engineer",
         "6"
        ],
        [
         "17",
         "airtable",
         "Senior Data Scientist",
         "9"
        ],
        [
         "18",
         "alteryx",
         "Business Analyst",
         "264"
        ],
        [
         "19",
         "alteryx",
         "Cloud Engineer",
         "4"
        ],
        [
         "20",
         "alteryx",
         "Data Analyst",
         "2045"
        ],
        [
         "21",
         "alteryx",
         "Data Engineer",
         "660"
        ],
        [
         "22",
         "alteryx",
         "Data Scientist",
         "774"
        ],
        [
         "23",
         "alteryx",
         "Machine Learning Engineer",
         "6"
        ],
        [
         "24",
         "alteryx",
         "Senior Data Analyst",
         "570"
        ],
        [
         "25",
         "alteryx",
         "Senior Data Engineer",
         "158"
        ],
        [
         "26",
         "alteryx",
         "Senior Data Scientist",
         "167"
        ],
        [
         "27",
         "alteryx",
         "Software Engineer",
         "25"
        ],
        [
         "28",
         "angular",
         "Business Analyst",
         "10"
        ],
        [
         "29",
         "angular",
         "Cloud Engineer",
         "1"
        ],
        [
         "30",
         "angular",
         "Data Analyst",
         "129"
        ],
        [
         "31",
         "angular",
         "Data Engineer",
         "383"
        ],
        [
         "32",
         "angular",
         "Data Scientist",
         "232"
        ],
        [
         "33",
         "angular",
         "Machine Learning Engineer",
         "14"
        ],
        [
         "34",
         "angular",
         "Senior Data Analyst",
         "4"
        ],
        [
         "35",
         "angular",
         "Senior Data Engineer",
         "95"
        ],
        [
         "36",
         "angular",
         "Senior Data Scientist",
         "38"
        ],
        [
         "37",
         "angular",
         "Software Engineer",
         "40"
        ],
        [
         "38",
         "angular.js",
         "Data Engineer",
         "14"
        ],
        [
         "39",
         "angular.js",
         "Data Scientist",
         "6"
        ],
        [
         "40",
         "angular.js",
         "Senior Data Engineer",
         "7"
        ],
        [
         "41",
         "ansible",
         "Business Analyst",
         "3"
        ],
        [
         "42",
         "ansible",
         "Cloud Engineer",
         "10"
        ],
        [
         "43",
         "ansible",
         "Data Analyst",
         "48"
        ],
        [
         "44",
         "ansible",
         "Data Engineer",
         "481"
        ],
        [
         "45",
         "ansible",
         "Data Scientist",
         "104"
        ],
        [
         "46",
         "ansible",
         "Machine Learning Engineer",
         "7"
        ],
        [
         "47",
         "ansible",
         "Senior Data Analyst",
         "14"
        ],
        [
         "48",
         "ansible",
         "Senior Data Engineer",
         "131"
        ],
        [
         "49",
         "ansible",
         "Senior Data Scientist",
         "11"
        ]
       ],
       "shape": {
        "columns": 3,
        "rows": 1870
       }
      },
      "text/html": [
       "<div>\n",
       "<style scoped>\n",
       "    .dataframe tbody tr th:only-of-type {\n",
       "        vertical-align: middle;\n",
       "    }\n",
       "\n",
       "    .dataframe tbody tr th {\n",
       "        vertical-align: top;\n",
       "    }\n",
       "\n",
       "    .dataframe thead th {\n",
       "        text-align: right;\n",
       "    }\n",
       "</style>\n",
       "<table border=\"1\" class=\"dataframe\">\n",
       "  <thead>\n",
       "    <tr style=\"text-align: right;\">\n",
       "      <th></th>\n",
       "      <th>job_skills</th>\n",
       "      <th>job_title_short</th>\n",
       "      <th>skill_count</th>\n",
       "    </tr>\n",
       "  </thead>\n",
       "  <tbody>\n",
       "    <tr>\n",
       "      <th>0</th>\n",
       "      <td>airflow</td>\n",
       "      <td>Business Analyst</td>\n",
       "      <td>38</td>\n",
       "    </tr>\n",
       "    <tr>\n",
       "      <th>1</th>\n",
       "      <td>airflow</td>\n",
       "      <td>Cloud Engineer</td>\n",
       "      <td>27</td>\n",
       "    </tr>\n",
       "    <tr>\n",
       "      <th>2</th>\n",
       "      <td>airflow</td>\n",
       "      <td>Data Analyst</td>\n",
       "      <td>387</td>\n",
       "    </tr>\n",
       "    <tr>\n",
       "      <th>3</th>\n",
       "      <td>airflow</td>\n",
       "      <td>Data Engineer</td>\n",
       "      <td>4716</td>\n",
       "    </tr>\n",
       "    <tr>\n",
       "      <th>4</th>\n",
       "      <td>airflow</td>\n",
       "      <td>Data Scientist</td>\n",
       "      <td>1166</td>\n",
       "    </tr>\n",
       "    <tr>\n",
       "      <th>...</th>\n",
       "      <td>...</td>\n",
       "      <td>...</td>\n",
       "      <td>...</td>\n",
       "    </tr>\n",
       "    <tr>\n",
       "      <th>1865</th>\n",
       "      <td>zoom</td>\n",
       "      <td>Machine Learning Engineer</td>\n",
       "      <td>5</td>\n",
       "    </tr>\n",
       "    <tr>\n",
       "      <th>1866</th>\n",
       "      <td>zoom</td>\n",
       "      <td>Senior Data Analyst</td>\n",
       "      <td>50</td>\n",
       "    </tr>\n",
       "    <tr>\n",
       "      <th>1867</th>\n",
       "      <td>zoom</td>\n",
       "      <td>Senior Data Engineer</td>\n",
       "      <td>30</td>\n",
       "    </tr>\n",
       "    <tr>\n",
       "      <th>1868</th>\n",
       "      <td>zoom</td>\n",
       "      <td>Senior Data Scientist</td>\n",
       "      <td>25</td>\n",
       "    </tr>\n",
       "    <tr>\n",
       "      <th>1869</th>\n",
       "      <td>zoom</td>\n",
       "      <td>Software Engineer</td>\n",
       "      <td>16</td>\n",
       "    </tr>\n",
       "  </tbody>\n",
       "</table>\n",
       "<p>1870 rows × 3 columns</p>\n",
       "</div>"
      ],
      "text/plain": [
       "     job_skills            job_title_short  skill_count\n",
       "0       airflow           Business Analyst           38\n",
       "1       airflow             Cloud Engineer           27\n",
       "2       airflow               Data Analyst          387\n",
       "3       airflow              Data Engineer         4716\n",
       "4       airflow             Data Scientist         1166\n",
       "...         ...                        ...          ...\n",
       "1865       zoom  Machine Learning Engineer            5\n",
       "1866       zoom        Senior Data Analyst           50\n",
       "1867       zoom       Senior Data Engineer           30\n",
       "1868       zoom      Senior Data Scientist           25\n",
       "1869       zoom          Software Engineer           16\n",
       "\n",
       "[1870 rows x 3 columns]"
      ]
     },
     "execution_count": 64,
     "metadata": {},
     "output_type": "execute_result"
    }
   ],
   "source": [
    "df_skills_count = df_skills_count.reset_index(name='skill_count')\n",
    "df_skills_count\n"
   ]
  },
  {
   "cell_type": "markdown",
   "id": "130ecab2",
   "metadata": {},
   "source": [
    "now we need to .sort_values() by the skill count, meaning we add up the skill count "
   ]
  },
  {
   "cell_type": "code",
   "execution_count": 65,
   "id": "82996526",
   "metadata": {},
   "outputs": [
    {
     "data": {
      "application/vnd.microsoft.datawrangler.viewer.v0+json": {
       "columns": [
        {
         "name": "index",
         "rawType": "int64",
         "type": "integer"
        },
        {
         "name": "job_skills",
         "rawType": "object",
         "type": "string"
        },
        {
         "name": "job_title_short",
         "rawType": "object",
         "type": "string"
        },
        {
         "name": "skill_count",
         "rawType": "int64",
         "type": "integer"
        }
       ],
       "ref": "dafcdd7f-51c1-41bb-8ae2-4cabbfa4e1d8",
       "rows": [
        [
         "1209",
         "python",
         "Data Scientist",
         "42379"
        ],
        [
         "1521",
         "sql",
         "Data Analyst",
         "34452"
        ],
        [
         "1523",
         "sql",
         "Data Scientist",
         "30034"
        ],
        [
         "455",
         "excel",
         "Data Analyst",
         "27519"
        ],
        [
         "1243",
         "r",
         "Data Scientist",
         "26022"
        ],
        [
         "1522",
         "sql",
         "Data Engineer",
         "23958"
        ],
        [
         "1208",
         "python",
         "Data Engineer",
         "22762"
        ],
        [
         "1611",
         "tableau",
         "Data Analyst",
         "19311"
        ],
        [
         "1207",
         "python",
         "Data Analyst",
         "18382"
        ],
        [
         "123",
         "aws",
         "Data Engineer",
         "15018"
        ],
        [
         "1351",
         "sas",
         "Data Scientist",
         "14340"
        ],
        [
         "1613",
         "tableau",
         "Data Scientist",
         "13859"
        ],
        [
         "1349",
         "sas",
         "Data Analyst",
         "13200"
        ],
        [
         "1241",
         "r",
         "Data Analyst",
         "11659"
        ],
        [
         "1149",
         "power bi",
         "Data Analyst",
         "11630"
        ],
        [
         "133",
         "azure",
         "Data Engineer",
         "11321"
        ],
        [
         "1472",
         "spark",
         "Data Engineer",
         "11242"
        ],
        [
         "124",
         "aws",
         "Data Scientist",
         "10288"
        ],
        [
         "1473",
         "spark",
         "Data Scientist",
         "9890"
        ],
        [
         "1213",
         "python",
         "Senior Data Scientist",
         "9816"
        ],
        [
         "688",
         "java",
         "Data Engineer",
         "8361"
        ],
        [
         "1457",
         "snowflake",
         "Data Engineer",
         "8190"
        ],
        [
         "1525",
         "sql",
         "Senior Data Analyst",
         "7803"
        ],
        [
         "1829",
         "word",
         "Data Analyst",
         "7611"
        ],
        [
         "1527",
         "sql",
         "Senior Data Scientist",
         "7421"
        ],
        [
         "689",
         "java",
         "Data Scientist",
         "7335"
        ],
        [
         "1165",
         "powerpoint",
         "Data Analyst",
         "7175"
        ],
        [
         "1623",
         "tensorflow",
         "Data Scientist",
         "7039"
        ],
        [
         "134",
         "azure",
         "Data Scientist",
         "6878"
        ],
        [
         "1212",
         "python",
         "Senior Data Engineer",
         "6692"
        ],
        [
         "1526",
         "sql",
         "Senior Data Engineer",
         "6651"
        ],
        [
         "457",
         "excel",
         "Data Scientist",
         "6598"
        ],
        [
         "635",
         "hadoop",
         "Data Engineer",
         "6340"
        ],
        [
         "636",
         "hadoop",
         "Data Scientist",
         "6285"
        ],
        [
         "755",
         "kafka",
         "Data Engineer",
         "6229"
        ],
        [
         "1367",
         "scala",
         "Data Engineer",
         "6127"
        ],
        [
         "335",
         "databricks",
         "Data Engineer",
         "5764"
        ],
        [
         "1247",
         "r",
         "Senior Data Scientist",
         "5741"
        ],
        [
         "1151",
         "power bi",
         "Data Scientist",
         "5657"
        ],
        [
         "1219",
         "pytorch",
         "Data Scientist",
         "5508"
        ],
        [
         "996",
         "nosql",
         "Data Engineer",
         "5506"
        ],
        [
         "1288",
         "redshift",
         "Data Engineer",
         "5465"
        ],
        [
         "1057",
         "oracle",
         "Data Analyst",
         "5109"
        ],
        [
         "1612",
         "tableau",
         "Data Engineer",
         "5022"
        ],
        [
         "1079",
         "pandas",
         "Data Scientist",
         "4884"
        ],
        [
         "127",
         "aws",
         "Senior Data Engineer",
         "4847"
        ],
        [
         "3",
         "airflow",
         "Data Engineer",
         "4716"
        ],
        [
         "1615",
         "tableau",
         "Senior Data Analyst",
         "4678"
        ],
        [
         "1368",
         "scala",
         "Data Scientist",
         "4621"
        ],
        [
         "1532",
         "sql server",
         "Data Engineer",
         "4440"
        ]
       ],
       "shape": {
        "columns": 3,
        "rows": 1870
       }
      },
      "text/html": [
       "<div>\n",
       "<style scoped>\n",
       "    .dataframe tbody tr th:only-of-type {\n",
       "        vertical-align: middle;\n",
       "    }\n",
       "\n",
       "    .dataframe tbody tr th {\n",
       "        vertical-align: top;\n",
       "    }\n",
       "\n",
       "    .dataframe thead th {\n",
       "        text-align: right;\n",
       "    }\n",
       "</style>\n",
       "<table border=\"1\" class=\"dataframe\">\n",
       "  <thead>\n",
       "    <tr style=\"text-align: right;\">\n",
       "      <th></th>\n",
       "      <th>job_skills</th>\n",
       "      <th>job_title_short</th>\n",
       "      <th>skill_count</th>\n",
       "    </tr>\n",
       "  </thead>\n",
       "  <tbody>\n",
       "    <tr>\n",
       "      <th>1209</th>\n",
       "      <td>python</td>\n",
       "      <td>Data Scientist</td>\n",
       "      <td>42379</td>\n",
       "    </tr>\n",
       "    <tr>\n",
       "      <th>1521</th>\n",
       "      <td>sql</td>\n",
       "      <td>Data Analyst</td>\n",
       "      <td>34452</td>\n",
       "    </tr>\n",
       "    <tr>\n",
       "      <th>1523</th>\n",
       "      <td>sql</td>\n",
       "      <td>Data Scientist</td>\n",
       "      <td>30034</td>\n",
       "    </tr>\n",
       "    <tr>\n",
       "      <th>455</th>\n",
       "      <td>excel</td>\n",
       "      <td>Data Analyst</td>\n",
       "      <td>27519</td>\n",
       "    </tr>\n",
       "    <tr>\n",
       "      <th>1243</th>\n",
       "      <td>r</td>\n",
       "      <td>Data Scientist</td>\n",
       "      <td>26022</td>\n",
       "    </tr>\n",
       "    <tr>\n",
       "      <th>...</th>\n",
       "      <td>...</td>\n",
       "      <td>...</td>\n",
       "      <td>...</td>\n",
       "    </tr>\n",
       "    <tr>\n",
       "      <th>1785</th>\n",
       "      <td>vue.js</td>\n",
       "      <td>Business Analyst</td>\n",
       "      <td>1</td>\n",
       "    </tr>\n",
       "    <tr>\n",
       "      <th>60</th>\n",
       "      <td>arch</td>\n",
       "      <td>Business Analyst</td>\n",
       "      <td>1</td>\n",
       "    </tr>\n",
       "    <tr>\n",
       "      <th>71</th>\n",
       "      <td>asana</td>\n",
       "      <td>Machine Learning Engineer</td>\n",
       "      <td>1</td>\n",
       "    </tr>\n",
       "    <tr>\n",
       "      <th>968</th>\n",
       "      <td>no-sql</td>\n",
       "      <td>Machine Learning Engineer</td>\n",
       "      <td>1</td>\n",
       "    </tr>\n",
       "    <tr>\n",
       "      <th>1861</th>\n",
       "      <td>zoom</td>\n",
       "      <td>Cloud Engineer</td>\n",
       "      <td>1</td>\n",
       "    </tr>\n",
       "  </tbody>\n",
       "</table>\n",
       "<p>1870 rows × 3 columns</p>\n",
       "</div>"
      ],
      "text/plain": [
       "     job_skills            job_title_short  skill_count\n",
       "1209     python             Data Scientist        42379\n",
       "1521        sql               Data Analyst        34452\n",
       "1523        sql             Data Scientist        30034\n",
       "455       excel               Data Analyst        27519\n",
       "1243          r             Data Scientist        26022\n",
       "...         ...                        ...          ...\n",
       "1785     vue.js           Business Analyst            1\n",
       "60         arch           Business Analyst            1\n",
       "71        asana  Machine Learning Engineer            1\n",
       "968      no-sql  Machine Learning Engineer            1\n",
       "1861       zoom             Cloud Engineer            1\n",
       "\n",
       "[1870 rows x 3 columns]"
      ]
     },
     "execution_count": 65,
     "metadata": {},
     "output_type": "execute_result"
    }
   ],
   "source": [
    "df_skills_count.sort_values(by='skill_count', ascending=False, inplace=True)\n",
    "df_skills_count"
   ]
  },
  {
   "cell_type": "markdown",
   "id": "59410da1",
   "metadata": {},
   "source": [
    "Now we need the top 3 roles, data analyst, engineer, and scientist. get all jobs that have these unique keywords, then make it into a list"
   ]
  },
  {
   "cell_type": "markdown",
   "id": "bbc2734b",
   "metadata": {},
   "source": [
    "we'll use a slicer (more complicated route, do the list of the three, but good to know for the future)"
   ]
  },
  {
   "cell_type": "code",
   "execution_count": 66,
   "id": "03daa627",
   "metadata": {},
   "outputs": [
    {
     "data": {
      "text/plain": [
       "['Data Analyst', 'Data Engineer', 'Data Scientist']"
      ]
     },
     "execution_count": 66,
     "metadata": {},
     "output_type": "execute_result"
    }
   ],
   "source": [
    "# job_titles = ['Data Analyst', 'Data Engineer', 'Data Scientist']\n",
    "# or hard code it in ⬇️ either or\n",
    "job_titles = df_skills_count['job_title_short'].unique().tolist()\n",
    "\n",
    "job_titles = sorted(job_titles[:3])  # sorted() in alphabetical order\n",
    "\n",
    "job_titles"
   ]
  },
  {
   "cell_type": "markdown",
   "id": "c6b2bcfa",
   "metadata": {},
   "source": [
    "Now we plot"
   ]
  },
  {
   "cell_type": "markdown",
   "id": "c02bf99e",
   "metadata": {},
   "source": [
    "here the len is used and the job_titles variable is our (3 rows, 1 is the column)"
   ]
  },
  {
   "cell_type": "code",
   "execution_count": null,
   "id": "25ea9898",
   "metadata": {},
   "outputs": [],
   "source": []
  },
  {
   "cell_type": "markdown",
   "id": "b5265bdc",
   "metadata": {},
   "source": [
    "1. Now the iteration ! we use a for loop pulling out the index, and the job_titles name out of the job_titles list using enumerate."
   ]
  },
  {
   "cell_type": "markdown",
   "id": "a76eb6cc",
   "metadata": {},
   "source": [
    "2. then we plot using our df_skills_count DB from above ⬆️"
   ]
  },
  {
   "cell_type": "markdown",
   "id": "cc9250bd",
   "metadata": {},
   "source": [
    "3. then we plot using a bar chart"
   ]
  },
  {
   "cell_type": "code",
   "execution_count": 76,
   "metadata": {},
   "outputs": [
    {
     "data": {
      "image/png": "[encoded data removed]",
      "text/plain": [
       "<Figure size 640x480 with 3 Axes>"
      ]
     },
     "metadata": {},
     "output_type": "display_data"
    }
   ],
   "source": [
    "fig, ax = plt.subplots(len(job_titles), 1)\n",
    "\n",
    "for i, job_title in enumerate(job_titles):\n",
    "        df_plot = df_skills_count[df_skills_count['job_title_short'] == job_title].head(5)\n",
    "        df_plot.plot(kind='barh', x='job_skills', y='skill_count', ax=ax[i], title=job_title)\n",
    "        ax[i].invert_yaxis()\n",
    "        ax[i].set_ylabel('')\n",
    "        ax[i].legend().set_visible(False)\n",
    "        \n",
    "fig.suptitle('Counts of Top Skills in Job Postings', fontsize=15) # yes its sup!\n",
    "fig.tight_layout(h_pad=0.5) # fix overlap\n",
    "plt.show()\n"
   ]
  },
  {
   "cell_type": "markdown",
   "id": "1184ed1b",
   "metadata": {},
   "source": [
    "now we must do convert these counts to a percentage, performan aggregation"
   ]
  },
  {
   "cell_type": "markdown",
   "id": "e7b9d839",
   "metadata": {},
   "source": [
    "for this process REMEMBER to use the right dataframe. that is the original df_US, make a new variable obviously"
   ]
  },
  {
   "cell_type": "code",
   "execution_count": 91,
   "metadata": {},
   "outputs": [],
   "source": [
    "df_job_title_count = df_US['job_title_short'].value_counts().reset_index(name='jobs_total')\n"
   ]
  },
  {
   "cell_type": "markdown",
   "id": "cc0f9261",
   "metadata": {},
   "source": [
    "now we have to merge this with our df_skills_count this df_US dataset with its new 'name'"
   ]
  },
  {
   "cell_type": "code",
   "execution_count": null,
   "id": "7d28bb9a",
   "metadata": {},
   "outputs": [],
   "source": []
  },
  {
   "cell_type": "code",
   "execution_count": 92,
   "id": "c7efd67b",
   "metadata": {},
   "outputs": [
    {
     "data": {
      "application/vnd.microsoft.datawrangler.viewer.v0+json": {
       "columns": [
        {
         "name": "index",
         "rawType": "int64",
         "type": "integer"
        },
        {
         "name": "job_title_short",
         "rawType": "object",
         "type": "string"
        },
        {
         "name": "jobs_total",
         "rawType": "int64",
         "type": "integer"
        }
       ],
       "ref": "520fc617-5c8c-447b-97ce-d33d7444b3c0",
       "rows": [
        [
         "0",
         "Data Analyst",
         "67816"
        ],
        [
         "1",
         "Data Scientist",
         "58830"
        ],
        [
         "2",
         "Data Engineer",
         "35080"
        ],
        [
         "3",
         "Senior Data Scientist",
         "12946"
        ],
        [
         "4",
         "Senior Data Analyst",
         "11791"
        ],
        [
         "5",
         "Senior Data Engineer",
         "9289"
        ],
        [
         "6",
         "Business Analyst",
         "7382"
        ],
        [
         "7",
         "Software Engineer",
         "1814"
        ],
        [
         "8",
         "Machine Learning Engineer",
         "921"
        ],
        [
         "9",
         "Cloud Engineer",
         "423"
        ]
       ],
       "shape": {
        "columns": 2,
        "rows": 10
       }
      },
      "text/html": [
       "<div>\n",
       "<style scoped>\n",
       "    .dataframe tbody tr th:only-of-type {\n",
       "        vertical-align: middle;\n",
       "    }\n",
       "\n",
       "    .dataframe tbody tr th {\n",
       "        vertical-align: top;\n",
       "    }\n",
       "\n",
       "    .dataframe thead th {\n",
       "        text-align: right;\n",
       "    }\n",
       "</style>\n",
       "<table border=\"1\" class=\"dataframe\">\n",
       "  <thead>\n",
       "    <tr style=\"text-align: right;\">\n",
       "      <th></th>\n",
       "      <th>job_title_short</th>\n",
       "      <th>jobs_total</th>\n",
       "    </tr>\n",
       "  </thead>\n",
       "  <tbody>\n",
       "    <tr>\n",
       "      <th>0</th>\n",
       "      <td>Data Analyst</td>\n",
       "      <td>67816</td>\n",
       "    </tr>\n",
       "    <tr>\n",
       "      <th>1</th>\n",
       "      <td>Data Scientist</td>\n",
       "      <td>58830</td>\n",
       "    </tr>\n",
       "    <tr>\n",
       "      <th>2</th>\n",
       "      <td>Data Engineer</td>\n",
       "      <td>35080</td>\n",
       "    </tr>\n",
       "    <tr>\n",
       "      <th>3</th>\n",
       "      <td>Senior Data Scientist</td>\n",
       "      <td>12946</td>\n",
       "    </tr>\n",
       "    <tr>\n",
       "      <th>4</th>\n",
       "      <td>Senior Data Analyst</td>\n",
       "      <td>11791</td>\n",
       "    </tr>\n",
       "    <tr>\n",
       "      <th>5</th>\n",
       "      <td>Senior Data Engineer</td>\n",
       "      <td>9289</td>\n",
       "    </tr>\n",
       "    <tr>\n",
       "      <th>6</th>\n",
       "      <td>Business Analyst</td>\n",
       "      <td>7382</td>\n",
       "    </tr>\n",
       "    <tr>\n",
       "      <th>7</th>\n",
       "      <td>Software Engineer</td>\n",
       "      <td>1814</td>\n",
       "    </tr>\n",
       "    <tr>\n",
       "      <th>8</th>\n",
       "      <td>Machine Learning Engineer</td>\n",
       "      <td>921</td>\n",
       "    </tr>\n",
       "    <tr>\n",
       "      <th>9</th>\n",
       "      <td>Cloud Engineer</td>\n",
       "      <td>423</td>\n",
       "    </tr>\n",
       "  </tbody>\n",
       "</table>\n",
       "</div>"
      ],
      "text/plain": [
       "             job_title_short  jobs_total\n",
       "0               Data Analyst       67816\n",
       "1             Data Scientist       58830\n",
       "2              Data Engineer       35080\n",
       "3      Senior Data Scientist       12946\n",
       "4        Senior Data Analyst       11791\n",
       "5       Senior Data Engineer        9289\n",
       "6           Business Analyst        7382\n",
       "7          Software Engineer        1814\n",
       "8  Machine Learning Engineer         921\n",
       "9             Cloud Engineer         423"
      ]
     },
     "execution_count": 92,
     "metadata": {},
     "output_type": "execute_result"
    }
   ],
   "source": [
    "df_job_title_count"
   ]
  },
  {
   "cell_type": "code",
   "execution_count": 95,
   "id": "3c71aca5",
   "metadata": {},
   "outputs": [
    {
     "data": {
      "application/vnd.microsoft.datawrangler.viewer.v0+json": {
       "columns": [
        {
         "name": "index",
         "rawType": "int64",
         "type": "integer"
        },
        {
         "name": "job_skills",
         "rawType": "object",
         "type": "string"
        },
        {
         "name": "job_title_short",
         "rawType": "object",
         "type": "string"
        },
        {
         "name": "skill_count",
         "rawType": "int64",
         "type": "integer"
        }
       ],
       "ref": "f7b1a389-c27a-4d5b-9e28-ab774e470aff",
       "rows": [
        [
         "1209",
         "python",
         "Data Scientist",
         "42379"
        ],
        [
         "1521",
         "sql",
         "Data Analyst",
         "34452"
        ],
        [
         "1523",
         "sql",
         "Data Scientist",
         "30034"
        ],
        [
         "455",
         "excel",
         "Data Analyst",
         "27519"
        ],
        [
         "1243",
         "r",
         "Data Scientist",
         "26022"
        ],
        [
         "1522",
         "sql",
         "Data Engineer",
         "23958"
        ],
        [
         "1208",
         "python",
         "Data Engineer",
         "22762"
        ],
        [
         "1611",
         "tableau",
         "Data Analyst",
         "19311"
        ],
        [
         "1207",
         "python",
         "Data Analyst",
         "18382"
        ],
        [
         "123",
         "aws",
         "Data Engineer",
         "15018"
        ],
        [
         "1351",
         "sas",
         "Data Scientist",
         "14340"
        ],
        [
         "1613",
         "tableau",
         "Data Scientist",
         "13859"
        ],
        [
         "1349",
         "sas",
         "Data Analyst",
         "13200"
        ],
        [
         "1241",
         "r",
         "Data Analyst",
         "11659"
        ],
        [
         "1149",
         "power bi",
         "Data Analyst",
         "11630"
        ],
        [
         "133",
         "azure",
         "Data Engineer",
         "11321"
        ],
        [
         "1472",
         "spark",
         "Data Engineer",
         "11242"
        ],
        [
         "124",
         "aws",
         "Data Scientist",
         "10288"
        ],
        [
         "1473",
         "spark",
         "Data Scientist",
         "9890"
        ],
        [
         "1213",
         "python",
         "Senior Data Scientist",
         "9816"
        ],
        [
         "688",
         "java",
         "Data Engineer",
         "8361"
        ],
        [
         "1457",
         "snowflake",
         "Data Engineer",
         "8190"
        ],
        [
         "1525",
         "sql",
         "Senior Data Analyst",
         "7803"
        ],
        [
         "1829",
         "word",
         "Data Analyst",
         "7611"
        ],
        [
         "1527",
         "sql",
         "Senior Data Scientist",
         "7421"
        ],
        [
         "689",
         "java",
         "Data Scientist",
         "7335"
        ],
        [
         "1165",
         "powerpoint",
         "Data Analyst",
         "7175"
        ],
        [
         "1623",
         "tensorflow",
         "Data Scientist",
         "7039"
        ],
        [
         "134",
         "azure",
         "Data Scientist",
         "6878"
        ],
        [
         "1212",
         "python",
         "Senior Data Engineer",
         "6692"
        ],
        [
         "1526",
         "sql",
         "Senior Data Engineer",
         "6651"
        ],
        [
         "457",
         "excel",
         "Data Scientist",
         "6598"
        ],
        [
         "635",
         "hadoop",
         "Data Engineer",
         "6340"
        ],
        [
         "636",
         "hadoop",
         "Data Scientist",
         "6285"
        ],
        [
         "755",
         "kafka",
         "Data Engineer",
         "6229"
        ],
        [
         "1367",
         "scala",
         "Data Engineer",
         "6127"
        ],
        [
         "335",
         "databricks",
         "Data Engineer",
         "5764"
        ],
        [
         "1247",
         "r",
         "Senior Data Scientist",
         "5741"
        ],
        [
         "1151",
         "power bi",
         "Data Scientist",
         "5657"
        ],
        [
         "1219",
         "pytorch",
         "Data Scientist",
         "5508"
        ],
        [
         "996",
         "nosql",
         "Data Engineer",
         "5506"
        ],
        [
         "1288",
         "redshift",
         "Data Engineer",
         "5465"
        ],
        [
         "1057",
         "oracle",
         "Data Analyst",
         "5109"
        ],
        [
         "1612",
         "tableau",
         "Data Engineer",
         "5022"
        ],
        [
         "1079",
         "pandas",
         "Data Scientist",
         "4884"
        ],
        [
         "127",
         "aws",
         "Senior Data Engineer",
         "4847"
        ],
        [
         "3",
         "airflow",
         "Data Engineer",
         "4716"
        ],
        [
         "1615",
         "tableau",
         "Senior Data Analyst",
         "4678"
        ],
        [
         "1368",
         "scala",
         "Data Scientist",
         "4621"
        ],
        [
         "1532",
         "sql server",
         "Data Engineer",
         "4440"
        ]
       ],
       "shape": {
        "columns": 3,
        "rows": 1870
       }
      },
      "text/html": [
       "<div>\n",
       "<style scoped>\n",
       "    .dataframe tbody tr th:only-of-type {\n",
       "        vertical-align: middle;\n",
       "    }\n",
       "\n",
       "    .dataframe tbody tr th {\n",
       "        vertical-align: top;\n",
       "    }\n",
       "\n",
       "    .dataframe thead th {\n",
       "        text-align: right;\n",
       "    }\n",
       "</style>\n",
       "<table border=\"1\" class=\"dataframe\">\n",
       "  <thead>\n",
       "    <tr style=\"text-align: right;\">\n",
       "      <th></th>\n",
       "      <th>job_skills</th>\n",
       "      <th>job_title_short</th>\n",
       "      <th>skill_count</th>\n",
       "    </tr>\n",
       "  </thead>\n",
       "  <tbody>\n",
       "    <tr>\n",
       "      <th>1209</th>\n",
       "      <td>python</td>\n",
       "      <td>Data Scientist</td>\n",
       "      <td>42379</td>\n",
       "    </tr>\n",
       "    <tr>\n",
       "      <th>1521</th>\n",
       "      <td>sql</td>\n",
       "      <td>Data Analyst</td>\n",
       "      <td>34452</td>\n",
       "    </tr>\n",
       "    <tr>\n",
       "      <th>1523</th>\n",
       "      <td>sql</td>\n",
       "      <td>Data Scientist</td>\n",
       "      <td>30034</td>\n",
       "    </tr>\n",
       "    <tr>\n",
       "      <th>455</th>\n",
       "      <td>excel</td>\n",
       "      <td>Data Analyst</td>\n",
       "      <td>27519</td>\n",
       "    </tr>\n",
       "    <tr>\n",
       "      <th>1243</th>\n",
       "      <td>r</td>\n",
       "      <td>Data Scientist</td>\n",
       "      <td>26022</td>\n",
       "    </tr>\n",
       "    <tr>\n",
       "      <th>...</th>\n",
       "      <td>...</td>\n",
       "      <td>...</td>\n",
       "      <td>...</td>\n",
       "    </tr>\n",
       "    <tr>\n",
       "      <th>1785</th>\n",
       "      <td>vue.js</td>\n",
       "      <td>Business Analyst</td>\n",
       "      <td>1</td>\n",
       "    </tr>\n",
       "    <tr>\n",
       "      <th>60</th>\n",
       "      <td>arch</td>\n",
       "      <td>Business Analyst</td>\n",
       "      <td>1</td>\n",
       "    </tr>\n",
       "    <tr>\n",
       "      <th>71</th>\n",
       "      <td>asana</td>\n",
       "      <td>Machine Learning Engineer</td>\n",
       "      <td>1</td>\n",
       "    </tr>\n",
       "    <tr>\n",
       "      <th>968</th>\n",
       "      <td>no-sql</td>\n",
       "      <td>Machine Learning Engineer</td>\n",
       "      <td>1</td>\n",
       "    </tr>\n",
       "    <tr>\n",
       "      <th>1861</th>\n",
       "      <td>zoom</td>\n",
       "      <td>Cloud Engineer</td>\n",
       "      <td>1</td>\n",
       "    </tr>\n",
       "  </tbody>\n",
       "</table>\n",
       "<p>1870 rows × 3 columns</p>\n",
       "</div>"
      ],
      "text/plain": [
       "     job_skills            job_title_short  skill_count\n",
       "1209     python             Data Scientist        42379\n",
       "1521        sql               Data Analyst        34452\n",
       "1523        sql             Data Scientist        30034\n",
       "455       excel               Data Analyst        27519\n",
       "1243          r             Data Scientist        26022\n",
       "...         ...                        ...          ...\n",
       "1785     vue.js           Business Analyst            1\n",
       "60         arch           Business Analyst            1\n",
       "71        asana  Machine Learning Engineer            1\n",
       "968      no-sql  Machine Learning Engineer            1\n",
       "1861       zoom             Cloud Engineer            1\n",
       "\n",
       "[1870 rows x 3 columns]"
      ]
     },
     "execution_count": 95,
     "metadata": {},
     "output_type": "execute_result"
    }
   ],
   "source": [
    "df_skills_count  # we merge these two ⬇️⬆️"
   ]
  },
  {
   "cell_type": "markdown",
   "id": "423e9366",
   "metadata": {},
   "source": [
    "here we merge in a left join, they join at job_title_short"
   ]
  },
  {
   "cell_type": "code",
   "execution_count": 100,
   "id": "f629d5d1",
   "metadata": {},
   "outputs": [
    {
     "data": {
      "application/vnd.microsoft.datawrangler.viewer.v0+json": {
       "columns": [
        {
         "name": "index",
         "rawType": "int64",
         "type": "integer"
        },
        {
         "name": "job_skills",
         "rawType": "object",
         "type": "string"
        },
        {
         "name": "job_title_short",
         "rawType": "object",
         "type": "string"
        },
        {
         "name": "skill_count",
         "rawType": "int64",
         "type": "integer"
        },
        {
         "name": "jobs_total",
         "rawType": "int64",
         "type": "integer"
        },
        {
         "name": "skill_percent",
         "rawType": "float64",
         "type": "float"
        }
       ],
       "ref": "226c72b4-2d0f-4a1d-b28d-85444d586ced",
       "rows": [
        [
         "0",
         "python",
         "Data Scientist",
         "42379",
         "58830",
         "72.03637599864015"
        ],
        [
         "1",
         "sql",
         "Data Analyst",
         "34452",
         "67816",
         "50.80217057921435"
        ],
        [
         "2",
         "sql",
         "Data Scientist",
         "30034",
         "58830",
         "51.052184259731426"
        ],
        [
         "3",
         "excel",
         "Data Analyst",
         "27519",
         "67816",
         "40.578919429043296"
        ],
        [
         "4",
         "r",
         "Data Scientist",
         "26022",
         "58830",
         "44.232534421213664"
        ],
        [
         "5",
         "sql",
         "Data Engineer",
         "23958",
         "35080",
         "68.29532497149373"
        ],
        [
         "6",
         "python",
         "Data Engineer",
         "22762",
         "35080",
         "64.88597491448118"
        ],
        [
         "7",
         "tableau",
         "Data Analyst",
         "19311",
         "67816",
         "28.475580983838622"
        ],
        [
         "8",
         "python",
         "Data Analyst",
         "18382",
         "67816",
         "27.105697770437654"
        ],
        [
         "9",
         "aws",
         "Data Engineer",
         "15018",
         "35080",
         "42.81071835803877"
        ],
        [
         "10",
         "sas",
         "Data Scientist",
         "14340",
         "58830",
         "24.375318714941358"
        ],
        [
         "11",
         "tableau",
         "Data Scientist",
         "13859",
         "58830",
         "23.557708652048273"
        ],
        [
         "12",
         "sas",
         "Data Analyst",
         "13200",
         "67816",
         "19.464433172112777"
        ],
        [
         "13",
         "r",
         "Data Analyst",
         "11659",
         "67816",
         "17.19210805709567"
        ],
        [
         "14",
         "power bi",
         "Data Analyst",
         "11630",
         "67816",
         "17.149345287247847"
        ],
        [
         "15",
         "azure",
         "Data Engineer",
         "11321",
         "35080",
         "32.27194982896237"
        ],
        [
         "16",
         "spark",
         "Data Engineer",
         "11242",
         "35080",
         "32.046750285062714"
        ],
        [
         "17",
         "aws",
         "Data Scientist",
         "10288",
         "58830",
         "17.487676355600883"
        ],
        [
         "18",
         "spark",
         "Data Scientist",
         "9890",
         "58830",
         "16.811150773414923"
        ],
        [
         "19",
         "python",
         "Senior Data Scientist",
         "9816",
         "12946",
         "75.82264792213812"
        ],
        [
         "20",
         "java",
         "Data Engineer",
         "8361",
         "35080",
         "23.834093500570127"
        ],
        [
         "21",
         "snowflake",
         "Data Engineer",
         "8190",
         "35080",
         "23.346636259977195"
        ],
        [
         "22",
         "sql",
         "Senior Data Analyst",
         "7803",
         "11791",
         "66.17759307946739"
        ],
        [
         "23",
         "word",
         "Data Analyst",
         "7611",
         "67816",
         "11.223015217647752"
        ],
        [
         "24",
         "sql",
         "Senior Data Scientist",
         "7421",
         "12946",
         "57.32272516607446"
        ],
        [
         "25",
         "java",
         "Data Scientist",
         "7335",
         "58830",
         "12.468128505864355"
        ],
        [
         "26",
         "powerpoint",
         "Data Analyst",
         "7175",
         "67816",
         "10.580099091659786"
        ],
        [
         "27",
         "tensorflow",
         "Data Scientist",
         "7039",
         "58830",
         "11.964983851776305"
        ],
        [
         "28",
         "azure",
         "Data Scientist",
         "6878",
         "58830",
         "11.6913139554649"
        ],
        [
         "29",
         "python",
         "Senior Data Engineer",
         "6692",
         "9289",
         "72.0422004521477"
        ],
        [
         "30",
         "sql",
         "Senior Data Engineer",
         "6651",
         "9289",
         "71.60081817203144"
        ],
        [
         "31",
         "excel",
         "Data Scientist",
         "6598",
         "58830",
         "11.215366309705932"
        ],
        [
         "32",
         "hadoop",
         "Data Engineer",
         "6340",
         "35080",
         "18.07297605473204"
        ],
        [
         "33",
         "hadoop",
         "Data Scientist",
         "6285",
         "58830",
         "10.68332483426823"
        ],
        [
         "34",
         "kafka",
         "Data Engineer",
         "6229",
         "35080",
         "17.75655644241733"
        ],
        [
         "35",
         "scala",
         "Data Engineer",
         "6127",
         "35080",
         "17.465792474344354"
        ],
        [
         "36",
         "databricks",
         "Data Engineer",
         "5764",
         "35080",
         "16.43101482326112"
        ],
        [
         "37",
         "r",
         "Senior Data Scientist",
         "5741",
         "12946",
         "44.34574385910706"
        ],
        [
         "38",
         "power bi",
         "Data Scientist",
         "5657",
         "58830",
         "9.61584225735169"
        ],
        [
         "39",
         "pytorch",
         "Data Scientist",
         "5508",
         "58830",
         "9.362570117287099"
        ],
        [
         "40",
         "nosql",
         "Data Engineer",
         "5506",
         "35080",
         "15.695553021664766"
        ],
        [
         "41",
         "redshift",
         "Data Engineer",
         "5465",
         "35080",
         "15.578677309007983"
        ],
        [
         "42",
         "oracle",
         "Data Analyst",
         "5109",
         "67816",
         "7.533620384570013"
        ],
        [
         "43",
         "tableau",
         "Data Engineer",
         "5022",
         "35080",
         "14.315849486887116"
        ],
        [
         "44",
         "pandas",
         "Data Scientist",
         "4884",
         "58830",
         "8.30188679245283"
        ],
        [
         "45",
         "aws",
         "Senior Data Engineer",
         "4847",
         "9289",
         "52.179997846915704"
        ],
        [
         "46",
         "airflow",
         "Data Engineer",
         "4716",
         "35080",
         "13.443557582668188"
        ],
        [
         "47",
         "tableau",
         "Senior Data Analyst",
         "4678",
         "11791",
         "39.67432787719447"
        ],
        [
         "48",
         "scala",
         "Data Scientist",
         "4621",
         "58830",
         "7.854835968043515"
        ],
        [
         "49",
         "sql server",
         "Data Engineer",
         "4440",
         "35080",
         "12.65678449258837"
        ]
       ],
       "shape": {
        "columns": 5,
        "rows": 1870
       }
      },
      "text/html": [
       "<div>\n",
       "<style scoped>\n",
       "    .dataframe tbody tr th:only-of-type {\n",
       "        vertical-align: middle;\n",
       "    }\n",
       "\n",
       "    .dataframe tbody tr th {\n",
       "        vertical-align: top;\n",
       "    }\n",
       "\n",
       "    .dataframe thead th {\n",
       "        text-align: right;\n",
       "    }\n",
       "</style>\n",
       "<table border=\"1\" class=\"dataframe\">\n",
       "  <thead>\n",
       "    <tr style=\"text-align: right;\">\n",
       "      <th></th>\n",
       "      <th>job_skills</th>\n",
       "      <th>job_title_short</th>\n",
       "      <th>skill_count</th>\n",
       "      <th>jobs_total</th>\n",
       "      <th>skill_percent</th>\n",
       "    </tr>\n",
       "  </thead>\n",
       "  <tbody>\n",
       "    <tr>\n",
       "      <th>0</th>\n",
       "      <td>python</td>\n",
       "      <td>Data Scientist</td>\n",
       "      <td>42379</td>\n",
       "      <td>58830</td>\n",
       "      <td>72.036376</td>\n",
       "    </tr>\n",
       "    <tr>\n",
       "      <th>1</th>\n",
       "      <td>sql</td>\n",
       "      <td>Data Analyst</td>\n",
       "      <td>34452</td>\n",
       "      <td>67816</td>\n",
       "      <td>50.802171</td>\n",
       "    </tr>\n",
       "    <tr>\n",
       "      <th>2</th>\n",
       "      <td>sql</td>\n",
       "      <td>Data Scientist</td>\n",
       "      <td>30034</td>\n",
       "      <td>58830</td>\n",
       "      <td>51.052184</td>\n",
       "    </tr>\n",
       "    <tr>\n",
       "      <th>3</th>\n",
       "      <td>excel</td>\n",
       "      <td>Data Analyst</td>\n",
       "      <td>27519</td>\n",
       "      <td>67816</td>\n",
       "      <td>40.578919</td>\n",
       "    </tr>\n",
       "    <tr>\n",
       "      <th>4</th>\n",
       "      <td>r</td>\n",
       "      <td>Data Scientist</td>\n",
       "      <td>26022</td>\n",
       "      <td>58830</td>\n",
       "      <td>44.232534</td>\n",
       "    </tr>\n",
       "    <tr>\n",
       "      <th>...</th>\n",
       "      <td>...</td>\n",
       "      <td>...</td>\n",
       "      <td>...</td>\n",
       "      <td>...</td>\n",
       "      <td>...</td>\n",
       "    </tr>\n",
       "    <tr>\n",
       "      <th>1865</th>\n",
       "      <td>vue.js</td>\n",
       "      <td>Business Analyst</td>\n",
       "      <td>1</td>\n",
       "      <td>7382</td>\n",
       "      <td>0.013546</td>\n",
       "    </tr>\n",
       "    <tr>\n",
       "      <th>1866</th>\n",
       "      <td>arch</td>\n",
       "      <td>Business Analyst</td>\n",
       "      <td>1</td>\n",
       "      <td>7382</td>\n",
       "      <td>0.013546</td>\n",
       "    </tr>\n",
       "    <tr>\n",
       "      <th>1867</th>\n",
       "      <td>asana</td>\n",
       "      <td>Machine Learning Engineer</td>\n",
       "      <td>1</td>\n",
       "      <td>921</td>\n",
       "      <td>0.108578</td>\n",
       "    </tr>\n",
       "    <tr>\n",
       "      <th>1868</th>\n",
       "      <td>no-sql</td>\n",
       "      <td>Machine Learning Engineer</td>\n",
       "      <td>1</td>\n",
       "      <td>921</td>\n",
       "      <td>0.108578</td>\n",
       "    </tr>\n",
       "    <tr>\n",
       "      <th>1869</th>\n",
       "      <td>zoom</td>\n",
       "      <td>Cloud Engineer</td>\n",
       "      <td>1</td>\n",
       "      <td>423</td>\n",
       "      <td>0.236407</td>\n",
       "    </tr>\n",
       "  </tbody>\n",
       "</table>\n",
       "<p>1870 rows × 5 columns</p>\n",
       "</div>"
      ],
      "text/plain": [
       "     job_skills            job_title_short  skill_count  jobs_total  \\\n",
       "0        python             Data Scientist        42379       58830   \n",
       "1           sql               Data Analyst        34452       67816   \n",
       "2           sql             Data Scientist        30034       58830   \n",
       "3         excel               Data Analyst        27519       67816   \n",
       "4             r             Data Scientist        26022       58830   \n",
       "...         ...                        ...          ...         ...   \n",
       "1865     vue.js           Business Analyst            1        7382   \n",
       "1866       arch           Business Analyst            1        7382   \n",
       "1867      asana  Machine Learning Engineer            1         921   \n",
       "1868     no-sql  Machine Learning Engineer            1         921   \n",
       "1869       zoom             Cloud Engineer            1         423   \n",
       "\n",
       "      skill_percent  \n",
       "0         72.036376  \n",
       "1         50.802171  \n",
       "2         51.052184  \n",
       "3         40.578919  \n",
       "4         44.232534  \n",
       "...             ...  \n",
       "1865       0.013546  \n",
       "1866       0.013546  \n",
       "1867       0.108578  \n",
       "1868       0.108578  \n",
       "1869       0.236407  \n",
       "\n",
       "[1870 rows x 5 columns]"
      ]
     },
     "execution_count": 100,
     "metadata": {},
     "output_type": "execute_result"
    }
   ],
   "source": [
    "df_skills_percent = pd.merge(df_skills_count, df_job_title_count, how='left', on='job_title_short')\n",
    "\n",
    "#now calculate skill percentage, making a new column do this math.\n",
    "df_skills_percent['skill_percent'] = 100 * df_skills_percent['skill_count'] / df_skills_percent['jobs_total']\n",
    "\n",
    "df_skills_percent"
   ]
  },
  {
   "cell_type": "code",
   "execution_count": 120,
   "id": "e88c068d",
   "metadata": {},
   "outputs": [
    {
     "data": {
      "image/png": "[encoded data removed]",
      "text/plain": [
       "<Figure size 640x480 with 3 Axes>"
      ]
     },
     "metadata": {},
     "output_type": "display_data"
    }
   ],
   "source": [
    "fig, ax = plt.subplots(len(job_titles), 1)\n",
    "\n",
    "sns.set_theme(style='ticks')\n",
    "\n",
    "for i, job_title in enumerate(job_titles):\n",
    "        df_plot = df_skills_percent[df_skills_percent['job_title_short'] == job_title].head(5)\n",
    "        # df_plot.plot(kind='barh', x='job_skills', y='skill_percent', ax=ax[i], title=job_title)\n",
    "        sns.barplot(data=df_plot, x='skill_percent', y='job_skills', ax=ax[i], hue='skill_count', palette='dark:b_r')\n",
    "        ax[i].set_title(job_title)\n",
    "        ax[i].set_ylabel('')\n",
    "        ax[i].set_xlabel('')\n",
    "        ax[i].legend().set_visible(False)\n",
    "        ax[i].set_xlim(0, 78)\n",
    "        \n",
    "        \n",
    "        for n, v in enumerate(df_plot['skill_percent']):\n",
    "            ax[i].text(v + 1, n, f'{v:.0f}%', va='center')  # v is x axis , n is y axis this is to space it and percentage syntax !!!✅ \n",
    "        \n",
    "# loop the percentage on the bar chart\n",
    "        # for exact percentage do    f'{v:.0f}'   f=float at end\n",
    "        \n",
    "        if i != len(job_titles) - 1:\n",
    "            ax[i].set_xticks([]) # removes the bottom numbers for no clutter, but we want to keep the last one with numbers on x axis so if\n",
    "                                # statement! only bottom grapgh should have it so its cluttery\n",
    "        \n",
    "fig.suptitle('Likelihood of Skills Requested in US JOb Postings', fontsize=15) # yes its sup!\n",
    "fig.tight_layout(h_pad=0.5) # fix overlap\n",
    "plt.show()"
   ]
  },
  {
   "cell_type": "code",
   "execution_count": null,
   "id": "d9de4e58",
   "metadata": {},
   "outputs": [],
   "source": []
  }
 ],
 "metadata": {
  "kernelspec": {
   "display_name": ".venv",
   "language": "python",
   "name": "python3"
  },
  "language_info": {
   "codemirror_mode": {
    "name": "ipython",
    "version": 3
   },
   "file_extension": ".py",
   "mimetype": "text/x-python",
   "name": "python",
   "nbconvert_exporter": "python",
   "pygments_lexer": "ipython3",
   "version": "3.13.2"
  }
 },
 "nbformat": 4,
 "nbformat_minor": 5
}
